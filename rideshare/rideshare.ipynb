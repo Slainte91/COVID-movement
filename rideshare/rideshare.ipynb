{
 "cells": [
  {
   "cell_type": "code",
   "execution_count": 1,
   "metadata": {},
   "outputs": [],
   "source": [
    "# Dependencies and Setup\n",
    "import matplotlib.pyplot as plt\n",
    "import pandas as pd\n",
    "import scipy.stats as st\n",
    "import numpy as np\n",
    "\n",
    "# Study data files\n",
    "# precov_path = \"data/new_trips_2019.csv\"\n",
    "# postcov_path = \"data/new_trips_2020.csv\"\n",
    "\n",
    "# #put data in dataframes\n",
    "# precov_data = pd.read_csv(precov_path)\n",
    "# postcov_data = pd.read_csv(postcov_path)"
   ]
  },
  {
   "cell_type": "code",
   "execution_count": 2,
   "metadata": {},
   "outputs": [],
   "source": [
    "clean_precov = pd.DataFrame(precov_data[['Trip Start Timestamp', 'Trip Seconds', 'Trip Miles', 'Fare', 'Tip', 'Additional Charges', 'Trip Total']])\n",
    "clean_postcov = pd.DataFrame(postcov_data[['Trip Start Timestamp', 'Trip Seconds', 'Trip Miles', 'Fare', 'Tip', 'Additional Charges', 'Trip Total']])"
   ]
  },
  {
   "cell_type": "code",
   "execution_count": 3,
   "metadata": {},
   "outputs": [
    {
     "data": {
      "text/html": [
       "<div>\n",
       "<style scoped>\n",
       "    .dataframe tbody tr th:only-of-type {\n",
       "        vertical-align: middle;\n",
       "    }\n",
       "\n",
       "    .dataframe tbody tr th {\n",
       "        vertical-align: top;\n",
       "    }\n",
       "\n",
       "    .dataframe thead th {\n",
       "        text-align: right;\n",
       "    }\n",
       "</style>\n",
       "<table border=\"1\" class=\"dataframe\">\n",
       "  <thead>\n",
       "    <tr style=\"text-align: right;\">\n",
       "      <th></th>\n",
       "      <th>Trip Start Timestamp</th>\n",
       "      <th>Trip Seconds</th>\n",
       "      <th>Trip Miles</th>\n",
       "      <th>Fare</th>\n",
       "      <th>Tip</th>\n",
       "      <th>Additional Charges</th>\n",
       "      <th>Trip Total</th>\n",
       "    </tr>\n",
       "  </thead>\n",
       "  <tbody>\n",
       "    <tr>\n",
       "      <th>0</th>\n",
       "      <td>01/01/2020 12:00:00 AM</td>\n",
       "      <td>721.0</td>\n",
       "      <td>3.8</td>\n",
       "      <td>15.0</td>\n",
       "      <td>5.0</td>\n",
       "      <td>7.85</td>\n",
       "      <td>27.85</td>\n",
       "    </tr>\n",
       "    <tr>\n",
       "      <th>1</th>\n",
       "      <td>01/01/2020 12:00:00 AM</td>\n",
       "      <td>1027.0</td>\n",
       "      <td>8.3</td>\n",
       "      <td>12.5</td>\n",
       "      <td>0.0</td>\n",
       "      <td>2.55</td>\n",
       "      <td>15.05</td>\n",
       "    </tr>\n",
       "    <tr>\n",
       "      <th>2</th>\n",
       "      <td>01/01/2020 12:00:00 AM</td>\n",
       "      <td>553.0</td>\n",
       "      <td>2.4</td>\n",
       "      <td>7.5</td>\n",
       "      <td>3.0</td>\n",
       "      <td>2.55</td>\n",
       "      <td>13.05</td>\n",
       "    </tr>\n",
       "    <tr>\n",
       "      <th>3</th>\n",
       "      <td>01/01/2020 12:00:00 AM</td>\n",
       "      <td>1134.0</td>\n",
       "      <td>4.7</td>\n",
       "      <td>10.0</td>\n",
       "      <td>0.0</td>\n",
       "      <td>2.55</td>\n",
       "      <td>12.55</td>\n",
       "    </tr>\n",
       "    <tr>\n",
       "      <th>4</th>\n",
       "      <td>01/01/2020 12:00:00 AM</td>\n",
       "      <td>977.0</td>\n",
       "      <td>12.4</td>\n",
       "      <td>17.5</td>\n",
       "      <td>0.0</td>\n",
       "      <td>2.55</td>\n",
       "      <td>20.05</td>\n",
       "    </tr>\n",
       "    <tr>\n",
       "      <th>...</th>\n",
       "      <td>...</td>\n",
       "      <td>...</td>\n",
       "      <td>...</td>\n",
       "      <td>...</td>\n",
       "      <td>...</td>\n",
       "      <td>...</td>\n",
       "      <td>...</td>\n",
       "    </tr>\n",
       "    <tr>\n",
       "      <th>25005567</th>\n",
       "      <td>12/31/2020 11:45:00 PM</td>\n",
       "      <td>2019.0</td>\n",
       "      <td>13.8</td>\n",
       "      <td>30.0</td>\n",
       "      <td>0.0</td>\n",
       "      <td>4.35</td>\n",
       "      <td>34.35</td>\n",
       "    </tr>\n",
       "    <tr>\n",
       "      <th>25005568</th>\n",
       "      <td>12/31/2020 11:45:00 PM</td>\n",
       "      <td>384.0</td>\n",
       "      <td>2.3</td>\n",
       "      <td>7.5</td>\n",
       "      <td>0.0</td>\n",
       "      <td>3.10</td>\n",
       "      <td>10.60</td>\n",
       "    </tr>\n",
       "    <tr>\n",
       "      <th>25005569</th>\n",
       "      <td>12/31/2020 11:45:00 PM</td>\n",
       "      <td>646.0</td>\n",
       "      <td>3.1</td>\n",
       "      <td>7.5</td>\n",
       "      <td>3.0</td>\n",
       "      <td>3.33</td>\n",
       "      <td>13.83</td>\n",
       "    </tr>\n",
       "    <tr>\n",
       "      <th>25005570</th>\n",
       "      <td>12/31/2020 11:45:00 PM</td>\n",
       "      <td>853.0</td>\n",
       "      <td>5.9</td>\n",
       "      <td>10.0</td>\n",
       "      <td>0.0</td>\n",
       "      <td>3.88</td>\n",
       "      <td>13.88</td>\n",
       "    </tr>\n",
       "    <tr>\n",
       "      <th>25005571</th>\n",
       "      <td>12/31/2020 11:45:00 PM</td>\n",
       "      <td>265.0</td>\n",
       "      <td>1.1</td>\n",
       "      <td>2.5</td>\n",
       "      <td>0.0</td>\n",
       "      <td>3.10</td>\n",
       "      <td>5.60</td>\n",
       "    </tr>\n",
       "  </tbody>\n",
       "</table>\n",
       "<p>25003734 rows × 7 columns</p>\n",
       "</div>"
      ],
      "text/plain": [
       "            Trip Start Timestamp  Trip Seconds  Trip Miles  Fare  Tip  \\\n",
       "0         01/01/2020 12:00:00 AM         721.0         3.8  15.0  5.0   \n",
       "1         01/01/2020 12:00:00 AM        1027.0         8.3  12.5  0.0   \n",
       "2         01/01/2020 12:00:00 AM         553.0         2.4   7.5  3.0   \n",
       "3         01/01/2020 12:00:00 AM        1134.0         4.7  10.0  0.0   \n",
       "4         01/01/2020 12:00:00 AM         977.0        12.4  17.5  0.0   \n",
       "...                          ...           ...         ...   ...  ...   \n",
       "25005567  12/31/2020 11:45:00 PM        2019.0        13.8  30.0  0.0   \n",
       "25005568  12/31/2020 11:45:00 PM         384.0         2.3   7.5  0.0   \n",
       "25005569  12/31/2020 11:45:00 PM         646.0         3.1   7.5  3.0   \n",
       "25005570  12/31/2020 11:45:00 PM         853.0         5.9  10.0  0.0   \n",
       "25005571  12/31/2020 11:45:00 PM         265.0         1.1   2.5  0.0   \n",
       "\n",
       "          Additional Charges  Trip Total  \n",
       "0                       7.85       27.85  \n",
       "1                       2.55       15.05  \n",
       "2                       2.55       13.05  \n",
       "3                       2.55       12.55  \n",
       "4                       2.55       20.05  \n",
       "...                      ...         ...  \n",
       "25005567                4.35       34.35  \n",
       "25005568                3.10       10.60  \n",
       "25005569                3.33       13.83  \n",
       "25005570                3.88       13.88  \n",
       "25005571                3.10        5.60  \n",
       "\n",
       "[25003734 rows x 7 columns]"
      ]
     },
     "execution_count": 3,
     "metadata": {},
     "output_type": "execute_result"
    }
   ],
   "source": [
    "clean_precov.dropna()\n",
    "clean_postcov.dropna()"
   ]
  },
  {
   "cell_type": "code",
   "execution_count": 29,
   "metadata": {},
   "outputs": [
    {
     "data": {
      "text/html": [
       "<div>\n",
       "<style scoped>\n",
       "    .dataframe tbody tr th:only-of-type {\n",
       "        vertical-align: middle;\n",
       "    }\n",
       "\n",
       "    .dataframe tbody tr th {\n",
       "        vertical-align: top;\n",
       "    }\n",
       "\n",
       "    .dataframe thead th {\n",
       "        text-align: right;\n",
       "    }\n",
       "</style>\n",
       "<table border=\"1\" class=\"dataframe\">\n",
       "  <thead>\n",
       "    <tr style=\"text-align: right;\">\n",
       "      <th></th>\n",
       "      <th>Trip Start Timestamp</th>\n",
       "      <th>Trip Seconds</th>\n",
       "      <th>Trip Miles</th>\n",
       "      <th>Fare</th>\n",
       "      <th>Tip</th>\n",
       "      <th>Additional Charges</th>\n",
       "      <th>Trip Total</th>\n",
       "    </tr>\n",
       "  </thead>\n",
       "  <tbody>\n",
       "    <tr>\n",
       "      <th>0</th>\n",
       "      <td>01/01/2020 12:00:00 AM</td>\n",
       "      <td>721.0</td>\n",
       "      <td>3.8</td>\n",
       "      <td>15.0</td>\n",
       "      <td>5.0</td>\n",
       "      <td>7.85</td>\n",
       "      <td>27.85</td>\n",
       "    </tr>\n",
       "    <tr>\n",
       "      <th>1</th>\n",
       "      <td>01/01/2020 12:00:00 AM</td>\n",
       "      <td>1027.0</td>\n",
       "      <td>8.3</td>\n",
       "      <td>12.5</td>\n",
       "      <td>0.0</td>\n",
       "      <td>2.55</td>\n",
       "      <td>15.05</td>\n",
       "    </tr>\n",
       "    <tr>\n",
       "      <th>2</th>\n",
       "      <td>01/01/2020 12:00:00 AM</td>\n",
       "      <td>553.0</td>\n",
       "      <td>2.4</td>\n",
       "      <td>7.5</td>\n",
       "      <td>3.0</td>\n",
       "      <td>2.55</td>\n",
       "      <td>13.05</td>\n",
       "    </tr>\n",
       "    <tr>\n",
       "      <th>3</th>\n",
       "      <td>01/01/2020 12:00:00 AM</td>\n",
       "      <td>1134.0</td>\n",
       "      <td>4.7</td>\n",
       "      <td>10.0</td>\n",
       "      <td>0.0</td>\n",
       "      <td>2.55</td>\n",
       "      <td>12.55</td>\n",
       "    </tr>\n",
       "    <tr>\n",
       "      <th>4</th>\n",
       "      <td>01/01/2020 12:00:00 AM</td>\n",
       "      <td>977.0</td>\n",
       "      <td>12.4</td>\n",
       "      <td>17.5</td>\n",
       "      <td>0.0</td>\n",
       "      <td>2.55</td>\n",
       "      <td>20.05</td>\n",
       "    </tr>\n",
       "  </tbody>\n",
       "</table>\n",
       "</div>"
      ],
      "text/plain": [
       "     Trip Start Timestamp  Trip Seconds  Trip Miles  Fare  Tip  \\\n",
       "0  01/01/2020 12:00:00 AM         721.0         3.8  15.0  5.0   \n",
       "1  01/01/2020 12:00:00 AM        1027.0         8.3  12.5  0.0   \n",
       "2  01/01/2020 12:00:00 AM         553.0         2.4   7.5  3.0   \n",
       "3  01/01/2020 12:00:00 AM        1134.0         4.7  10.0  0.0   \n",
       "4  01/01/2020 12:00:00 AM         977.0        12.4  17.5  0.0   \n",
       "\n",
       "   Additional Charges  Trip Total  \n",
       "0                7.85       27.85  \n",
       "1                2.55       15.05  \n",
       "2                2.55       13.05  \n",
       "3                2.55       12.55  \n",
       "4                2.55       20.05  "
      ]
     },
     "execution_count": 29,
     "metadata": {},
     "output_type": "execute_result"
    }
   ],
   "source": [
    "clean_postcov.head()"
   ]
  },
  {
   "cell_type": "code",
   "execution_count": 32,
   "metadata": {},
   "outputs": [
    {
     "data": {
      "text/plain": [
       "Trip Start Timestamp    25005572\n",
       "Trip Seconds            25004827\n",
       "Trip Miles              25005572\n",
       "Fare                    25004477\n",
       "Tip                     25004477\n",
       "Additional Charges      25004477\n",
       "Trip Total              25004477\n",
       "dtype: int64"
      ]
     },
     "execution_count": 32,
     "metadata": {},
     "output_type": "execute_result"
    }
   ],
   "source": [
    "clean_postcov.count()"
   ]
  },
  {
   "cell_type": "code",
   "execution_count": 33,
   "metadata": {},
   "outputs": [
    {
     "data": {
      "text/plain": [
       "Trip Start Timestamp    55925372\n",
       "Trip Seconds            55820067\n",
       "Trip Miles              55922796\n",
       "Fare                    55925356\n",
       "Tip                     55925356\n",
       "Additional Charges      55925362\n",
       "Trip Total              55925356\n",
       "dtype: int64"
      ]
     },
     "execution_count": 33,
     "metadata": {},
     "output_type": "execute_result"
    }
   ],
   "source": [
    "clean_precov.count()"
   ]
  },
  {
   "cell_type": "code",
   "execution_count": 5,
   "metadata": {},
   "outputs": [
    {
     "data": {
      "text/html": [
       "<div>\n",
       "<style scoped>\n",
       "    .dataframe tbody tr th:only-of-type {\n",
       "        vertical-align: middle;\n",
       "    }\n",
       "\n",
       "    .dataframe tbody tr th {\n",
       "        vertical-align: top;\n",
       "    }\n",
       "\n",
       "    .dataframe thead th {\n",
       "        text-align: right;\n",
       "    }\n",
       "</style>\n",
       "<table border=\"1\" class=\"dataframe\">\n",
       "  <thead>\n",
       "    <tr style=\"text-align: right;\">\n",
       "      <th></th>\n",
       "      <th>Trip Start Timestamp</th>\n",
       "      <th>Trip Seconds</th>\n",
       "      <th>Trip Miles</th>\n",
       "      <th>Fare</th>\n",
       "      <th>Tip</th>\n",
       "      <th>Additional Charges</th>\n",
       "      <th>Trip Total</th>\n",
       "    </tr>\n",
       "  </thead>\n",
       "  <tbody>\n",
       "    <tr>\n",
       "      <th>0</th>\n",
       "      <td>01/01/2019 12:00:00 AM</td>\n",
       "      <td>1722.0</td>\n",
       "      <td>9.5</td>\n",
       "      <td>17.5</td>\n",
       "      <td>0.0</td>\n",
       "      <td>2.50</td>\n",
       "      <td>20.00</td>\n",
       "    </tr>\n",
       "    <tr>\n",
       "      <th>1</th>\n",
       "      <td>01/01/2019 12:00:00 AM</td>\n",
       "      <td>1298.0</td>\n",
       "      <td>18.6</td>\n",
       "      <td>22.5</td>\n",
       "      <td>5.0</td>\n",
       "      <td>8.25</td>\n",
       "      <td>35.75</td>\n",
       "    </tr>\n",
       "    <tr>\n",
       "      <th>2</th>\n",
       "      <td>01/01/2019 12:00:00 AM</td>\n",
       "      <td>245.0</td>\n",
       "      <td>0.7</td>\n",
       "      <td>2.5</td>\n",
       "      <td>2.0</td>\n",
       "      <td>2.50</td>\n",
       "      <td>7.00</td>\n",
       "    </tr>\n",
       "    <tr>\n",
       "      <th>3</th>\n",
       "      <td>01/01/2019 12:00:00 AM</td>\n",
       "      <td>442.0</td>\n",
       "      <td>0.7</td>\n",
       "      <td>5.0</td>\n",
       "      <td>0.0</td>\n",
       "      <td>2.50</td>\n",
       "      <td>7.50</td>\n",
       "    </tr>\n",
       "    <tr>\n",
       "      <th>4</th>\n",
       "      <td>01/01/2019 12:00:00 AM</td>\n",
       "      <td>2223.0</td>\n",
       "      <td>25.9</td>\n",
       "      <td>32.5</td>\n",
       "      <td>0.0</td>\n",
       "      <td>3.25</td>\n",
       "      <td>35.75</td>\n",
       "    </tr>\n",
       "  </tbody>\n",
       "</table>\n",
       "</div>"
      ],
      "text/plain": [
       "     Trip Start Timestamp  Trip Seconds  Trip Miles  Fare  Tip  \\\n",
       "0  01/01/2019 12:00:00 AM        1722.0         9.5  17.5  0.0   \n",
       "1  01/01/2019 12:00:00 AM        1298.0        18.6  22.5  5.0   \n",
       "2  01/01/2019 12:00:00 AM         245.0         0.7   2.5  2.0   \n",
       "3  01/01/2019 12:00:00 AM         442.0         0.7   5.0  0.0   \n",
       "4  01/01/2019 12:00:00 AM        2223.0        25.9  32.5  0.0   \n",
       "\n",
       "   Additional Charges  Trip Total  \n",
       "0                2.50       20.00  \n",
       "1                8.25       35.75  \n",
       "2                2.50        7.00  \n",
       "3                2.50        7.50  \n",
       "4                3.25       35.75  "
      ]
     },
     "execution_count": 5,
     "metadata": {},
     "output_type": "execute_result"
    }
   ],
   "source": [
    "clean_precov.head()"
   ]
  },
  {
   "cell_type": "code",
   "execution_count": 6,
   "metadata": {},
   "outputs": [],
   "source": [
    "jan2020 = clean_postcov.loc[clean_postcov[\"Trip Start Timestamp\"].str.startswith('01')]\n",
    "feb2020 = clean_postcov.loc[clean_postcov[\"Trip Start Timestamp\"].str.startswith('02')]\n",
    "march2020 = clean_postcov.loc[clean_postcov[\"Trip Start Timestamp\"].str.startswith('03')]\n",
    "april2020 = clean_postcov.loc[clean_postcov[\"Trip Start Timestamp\"].str.startswith('04')]\n",
    "may2020 = clean_postcov.loc[clean_postcov[\"Trip Start Timestamp\"].str.startswith('05')]\n",
    "june2020 = clean_postcov.loc[clean_postcov[\"Trip Start Timestamp\"].str.startswith('06')]\n",
    "july2020 = clean_postcov.loc[clean_postcov[\"Trip Start Timestamp\"].str.startswith('07')]\n",
    "aug2020 = clean_postcov.loc[clean_postcov[\"Trip Start Timestamp\"].str.startswith('08')]\n",
    "sep2020 = clean_postcov.loc[clean_postcov[\"Trip Start Timestamp\"].str.startswith('09')]\n",
    "oct2020 = clean_postcov.loc[clean_postcov[\"Trip Start Timestamp\"].str.startswith('10')]\n",
    "nov2020 = clean_postcov.loc[clean_postcov[\"Trip Start Timestamp\"].str.startswith('11')]\n",
    "dec2020 = clean_postcov.loc[clean_postcov[\"Trip Start Timestamp\"].str.startswith('12')]"
   ]
  },
  {
   "cell_type": "code",
   "execution_count": 7,
   "metadata": {},
   "outputs": [],
   "source": [
    "jan2019 = clean_precov.loc[clean_precov[\"Trip Start Timestamp\"].str.startswith('01')]\n",
    "feb2019 = clean_precov.loc[clean_precov[\"Trip Start Timestamp\"].str.startswith('02')]\n",
    "march2019 = clean_precov.loc[clean_precov[\"Trip Start Timestamp\"].str.startswith('03')]\n",
    "april2019 = clean_precov.loc[clean_precov[\"Trip Start Timestamp\"].str.startswith('04')]\n",
    "may2019 = clean_precov.loc[clean_precov[\"Trip Start Timestamp\"].str.startswith('05')]\n",
    "june2019 = clean_precov.loc[clean_precov[\"Trip Start Timestamp\"].str.startswith('06')]\n",
    "july2019 = clean_precov.loc[clean_precov[\"Trip Start Timestamp\"].str.startswith('07')]\n",
    "aug2019 = clean_precov.loc[clean_precov[\"Trip Start Timestamp\"].str.startswith('08')]\n",
    "sep2019 = clean_precov.loc[clean_precov[\"Trip Start Timestamp\"].str.startswith('09')]\n",
    "oct2019 = clean_precov.loc[clean_precov[\"Trip Start Timestamp\"].str.startswith('10')]\n",
    "nov2019 = clean_precov.loc[clean_precov[\"Trip Start Timestamp\"].str.startswith('11')]\n",
    "dec2019 = clean_precov.loc[clean_precov[\"Trip Start Timestamp\"].str.startswith('12')]"
   ]
  },
  {
   "cell_type": "code",
   "execution_count": 8,
   "metadata": {},
   "outputs": [],
   "source": [
    "months = [\"Jan\", \"Feb\", \"March\", \"April\", \"May\", \"June\", \"July\", \"Aug\", \"Sep\", \"Oct\", \"Nov\", \"Dec\"]"
   ]
  },
  {
   "cell_type": "code",
   "execution_count": 9,
   "metadata": {},
   "outputs": [],
   "source": [
    "precount = [2*jan2019['Trip Start Timestamp'].count(), 2*feb2019['Trip Start Timestamp'].count(), 2*march2019['Trip Start Timestamp'].count(), \n",
    "            2*april2019['Trip Start Timestamp'].count(), 2*may2019['Trip Start Timestamp'].count(), 2*june2019['Trip Start Timestamp'].count(), \n",
    "            2*july2019['Trip Start Timestamp'].count(), 2*aug2019['Trip Start Timestamp'].count(), 2*sep2019['Trip Start Timestamp'].count(),\n",
    "            2*oct2019['Trip Start Timestamp'].count(), 2*nov2019['Trip Start Timestamp'].count(), 2*dec2019['Trip Start Timestamp'].count()]\n",
    "postcount = [2*jan2020['Trip Start Timestamp'].count(), 2*feb2020['Trip Start Timestamp'].count(), 2*march2020['Trip Start Timestamp'].count(),\n",
    "            2*april2020['Trip Start Timestamp'].count(), 2*may2020['Trip Start Timestamp'].count(), 2*june2020['Trip Start Timestamp'].count(), \n",
    "            2*july2020['Trip Start Timestamp'].count(), 2*aug2020['Trip Start Timestamp'].count(), 2*sep2020['Trip Start Timestamp'].count(), \n",
    "            2*oct2020['Trip Start Timestamp'].count(), 2*nov2020['Trip Start Timestamp'].count(), 2*dec2020['Trip Start Timestamp'].count()]"
   ]
  },
  {
   "cell_type": "code",
   "execution_count": 10,
   "metadata": {
    "scrolled": false
   },
   "outputs": [
    {
     "data": {
      "image/png": "[encoded data removed]",
      "text/plain": [
       "<Figure size 432x288 with 1 Axes>"
      ]
     },
     "metadata": {
      "needs_background": "light"
     },
     "output_type": "display_data"
    }
   ],
   "source": [
    "plt.plot(months,postcount, marker = 'o')\n",
    "plt.xlabel(\"Month (2020)\")\n",
    "plt.ylabel(\"Number of Rides (in millions)\")\n",
    "\n",
    "plt.savefig('output/rides_2020.png')\n",
    "\n",
    "plt.show()"
   ]
  },
  {
   "cell_type": "code",
   "execution_count": 11,
   "metadata": {},
   "outputs": [
    {
     "data": {
      "image/png": "[encoded data removed]",
      "text/plain": [
       "<Figure size 432x288 with 1 Axes>"
      ]
     },
     "metadata": {
      "needs_background": "light"
     },
     "output_type": "display_data"
    }
   ],
   "source": [
    "plt.plot(months,precount, marker = 'o')\n",
    "plt.xlabel(\"Month (2019)\")\n",
    "plt.ylabel(\"Number of Rides (in millions)\")\n",
    "plt.ylim([1000000, 11000000])\n",
    "plt.ticklabel_format(style='scientific', axis = 'y', scilimits = (6,6))\n",
    "plt.locator_params(axis=\"y\", nbins=10)\n",
    "plt.savefig('output/rides_2019.png')\n",
    "\n",
    "plt.show()"
   ]
  },
  {
   "cell_type": "code",
   "execution_count": 12,
   "metadata": {},
   "outputs": [
    {
     "data": {
      "image/png": "[encoded data removed]",
      "text/plain": [
       "<Figure size 432x288 with 1 Axes>"
      ]
     },
     "metadata": {
      "needs_background": "light"
     },
     "output_type": "display_data"
    }
   ],
   "source": [
    "x = np.arange(len(months))  # the label locations\n",
    "width = 0.35  # the width of the bars\n",
    "\n",
    "fig, ax = plt.subplots()\n",
    "rects1 = ax.bar(x - width/2, precount, width, label='2019')\n",
    "rects2 = ax.bar(x + width/2, postcount, width, label='2020')\n",
    "\n",
    "ax.set_ylabel('Number of Rides (millions)')\n",
    "ax.set_title('Total Number of Rideshare Rides')\n",
    "ax.set_xticks(x)\n",
    "ax.set_xticklabels(months)\n",
    "ax.legend()\n",
    "ax.ticklabel_format(style='scientific', axis = 'y', scilimits = (6,6))\n",
    "fig.tight_layout()\n",
    "\n",
    "plt.savefig(\"output/numrides.png\")\n",
    "\n",
    "plt.show()"
   ]
  },
  {
   "cell_type": "code",
   "execution_count": 13,
   "metadata": {},
   "outputs": [],
   "source": [
    "tippremean = [jan2019['Tip'].mean(), feb2019['Tip'].mean(), march2019['Tip'].mean(), \n",
    "              april2019['Tip'].mean(), may2019['Tip'].mean(), june2019['Tip'].mean(), \n",
    "              july2019['Tip'].mean(), aug2019['Tip'].mean(), sep2019['Tip'].mean(),\n",
    "              oct2019['Tip'].mean(), nov2019['Tip'].mean(), dec2019['Tip'].mean()]\n",
    "tippostmean = [jan2020['Tip'].mean(), feb2020['Tip'].mean(), march2020['Tip'].mean(),\n",
    "              april2020['Tip'].mean(), may2020['Tip'].mean(), june2020['Tip'].mean(), \n",
    "              july2020['Tip'].mean(), aug2020['Tip'].mean(), sep2020['Tip'].mean(), \n",
    "              oct2020['Tip'].mean(), nov2020['Tip'].mean(), dec2020['Tip'].mean()]"
   ]
  },
  {
   "cell_type": "code",
   "execution_count": 14,
   "metadata": {},
   "outputs": [
    {
     "data": {
      "image/png": "[encoded data removed]",
      "text/plain": [
       "<Figure size 432x288 with 1 Axes>"
      ]
     },
     "metadata": {
      "needs_background": "light"
     },
     "output_type": "display_data"
    }
   ],
   "source": [
    "x = np.arange(len(months))  # the label locations\n",
    "width = 0.35  # the width of the bars\n",
    "\n",
    "fig, ax = plt.subplots()\n",
    "rects1 = ax.bar(x - width/2, tippremean, width, label='2019')\n",
    "rects2 = ax.bar(x + width/2, tippostmean, width, label='2020')\n",
    "\n",
    "ax.set_ylabel('Average Tip')\n",
    "ax.set_title('Average Tip per Ride')\n",
    "ax.set_xticks(x)\n",
    "ax.set_xticklabels(months)\n",
    "ax.legend()\n",
    "\n",
    "fig.tight_layout()\n",
    "\n",
    "plt.savefig(\"output/avg_tip.png\")\n",
    "\n",
    "plt.show()"
   ]
  },
  {
   "cell_type": "code",
   "execution_count": 15,
   "metadata": {},
   "outputs": [],
   "source": [
    "secpremean = [jan2019['Trip Seconds'].mean(), feb2019['Trip Seconds'].mean(), march2019['Trip Seconds'].mean(), \n",
    "              april2019['Trip Seconds'].mean(), may2019['Trip Seconds'].mean(), june2019['Trip Seconds'].mean(), \n",
    "              july2019['Trip Seconds'].mean(), aug2019['Trip Seconds'].mean(), sep2019['Trip Seconds'].mean(),\n",
    "              oct2019['Trip Seconds'].mean(), nov2019['Trip Seconds'].mean(), dec2019['Trip Seconds'].mean()]\n",
    "secpostmean = [jan2020['Trip Seconds'].mean(), feb2020['Trip Seconds'].mean(), march2020['Trip Seconds'].mean(),\n",
    "              april2020['Trip Seconds'].mean(), may2020['Trip Seconds'].mean(), june2020['Trip Seconds'].mean(), \n",
    "              july2020['Trip Seconds'].mean(), aug2020['Trip Seconds'].mean(), sep2020['Trip Seconds'].mean(), \n",
    "              oct2020['Trip Seconds'].mean(), nov2020['Trip Seconds'].mean(), dec2020['Trip Seconds'].mean()]"
   ]
  },
  {
   "cell_type": "code",
   "execution_count": 16,
   "metadata": {},
   "outputs": [
    {
     "data": {
      "image/png": "[encoded data removed]",
      "text/plain": [
       "<Figure size 432x288 with 1 Axes>"
      ]
     },
     "metadata": {
      "needs_background": "light"
     },
     "output_type": "display_data"
    }
   ],
   "source": [
    "x = np.arange(len(months))  # the label locations\n",
    "width = 0.35  # the width of the bars\n",
    "\n",
    "fig, ax = plt.subplots()\n",
    "rects1 = ax.bar(x - width/2, secpremean, width, label='2019')\n",
    "rects2 = ax.bar(x + width/2, secpostmean, width, label='2020')\n",
    "\n",
    "ax.set_ylabel('Average Ride Length (s)')\n",
    "ax.set_title('Average Ride Length in Seconds')\n",
    "ax.set_xticks(x)\n",
    "ax.set_xticklabels(months)\n",
    "ax.legend()\n",
    "\n",
    "fig.tight_layout()\n",
    "\n",
    "plt.savefig(\"output/avg_time.png\")\n",
    "\n",
    "plt.show()"
   ]
  },
  {
   "cell_type": "code",
   "execution_count": 17,
   "metadata": {},
   "outputs": [],
   "source": [
    "distancepremean = [jan2019['Trip Miles'].mean(), feb2019['Trip Miles'].mean(), march2019['Trip Miles'].mean(), \n",
    "                  april2019['Trip Miles'].mean(), may2019['Trip Miles'].mean(), june2019['Trip Miles'].mean(), \n",
    "                  july2019['Trip Miles'].mean(), aug2019['Trip Miles'].mean(), sep2019['Trip Miles'].mean(),\n",
    "                  oct2019['Trip Miles'].mean(), nov2019['Trip Miles'].mean(), dec2019['Trip Miles'].mean()]\n",
    "distancepostmean = [jan2020['Trip Miles'].mean(), feb2020['Trip Miles'].mean(), march2020['Trip Miles'].mean(),\n",
    "                  april2020['Trip Miles'].mean(), may2020['Trip Miles'].mean(), june2020['Trip Miles'].mean(), \n",
    "                  july2020['Trip Miles'].mean(), aug2020['Trip Miles'].mean(), sep2020['Trip Miles'].mean(), \n",
    "                  oct2020['Trip Miles'].mean(), nov2020['Trip Miles'].mean(), dec2020['Trip Miles'].mean()]"
   ]
  },
  {
   "cell_type": "code",
   "execution_count": 18,
   "metadata": {},
   "outputs": [
    {
     "data": {
      "image/png": "[encoded data removed]",
      "text/plain": [
       "<Figure size 432x288 with 1 Axes>"
      ]
     },
     "metadata": {
      "needs_background": "light"
     },
     "output_type": "display_data"
    }
   ],
   "source": [
    "x = np.arange(len(months))  # the label locations\n",
    "width = 0.35  # the width of the bars\n",
    "\n",
    "fig, ax = plt.subplots()\n",
    "rects1 = ax.bar(x - width/2, distancepremean, width, label='2019')\n",
    "rects2 = ax.bar(x + width/2, distancepostmean, width, label='2020')\n",
    "\n",
    "ax.set_ylabel('Average Ride Length (miles)')\n",
    "ax.set_title('Average Ride Length in Miles')\n",
    "ax.set_xticks(x)\n",
    "ax.set_xticklabels(months)\n",
    "ax.legend()\n",
    "\n",
    "fig.tight_layout()\n",
    "\n",
    "plt.savefig(\"output/avg_miles.png\")\n",
    "\n",
    "plt.show()"
   ]
  },
  {
   "cell_type": "code",
   "execution_count": 31,
   "metadata": {},
   "outputs": [
    {
     "data": {
      "text/plain": [
       "Ttest_indResult(statistic=-115.02808572800728, pvalue=0.0)"
      ]
     },
     "execution_count": 31,
     "metadata": {},
     "output_type": "execute_result"
    }
   ],
   "source": [
    "st.ttest_ind(feb2019['Trip Miles'], feb2020['Trip Miles'], equal_var=False)"
   ]
  },
  {
   "cell_type": "code",
   "execution_count": null,
   "metadata": {},
   "outputs": [],
   "source": []
  }
 ],
 "metadata": {
  "kernelspec": {
   "display_name": "Python 3",
   "language": "python",
   "name": "python3"
  },
  "language_info": {
   "codemirror_mode": {
    "name": "ipython",
    "version": 3
   },
   "file_extension": ".py",
   "mimetype": "text/x-python",
   "name": "python",
   "nbconvert_exporter": "python",
   "pygments_lexer": "ipython3",
   "version": "3.8.5"
  }
 },
 "nbformat": 4,
 "nbformat_minor": 4
}
