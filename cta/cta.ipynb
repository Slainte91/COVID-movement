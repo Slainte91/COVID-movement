{
 "cells": [
  {
   "cell_type": "code",
   "execution_count": 2,
   "metadata": {},
   "outputs": [
    {
     "data": {
      "text/html": [
       "<div>\n",
       "<style scoped>\n",
       "    .dataframe tbody tr th:only-of-type {\n",
       "        vertical-align: middle;\n",
       "    }\n",
       "\n",
       "    .dataframe tbody tr th {\n",
       "        vertical-align: top;\n",
       "    }\n",
       "\n",
       "    .dataframe thead th {\n",
       "        text-align: right;\n",
       "    }\n",
       "</style>\n",
       "<table border=\"1\" class=\"dataframe\">\n",
       "  <thead>\n",
       "    <tr style=\"text-align: right;\">\n",
       "      <th></th>\n",
       "      <th>service_date</th>\n",
       "      <th>day_type</th>\n",
       "      <th>bus</th>\n",
       "      <th>rail_boardings</th>\n",
       "      <th>total_rides</th>\n",
       "    </tr>\n",
       "  </thead>\n",
       "  <tbody>\n",
       "    <tr>\n",
       "      <th>0</th>\n",
       "      <td>01/01/2001</td>\n",
       "      <td>U</td>\n",
       "      <td>297192</td>\n",
       "      <td>126455</td>\n",
       "      <td>423647</td>\n",
       "    </tr>\n",
       "    <tr>\n",
       "      <th>1</th>\n",
       "      <td>01/02/2001</td>\n",
       "      <td>W</td>\n",
       "      <td>780827</td>\n",
       "      <td>501952</td>\n",
       "      <td>1282779</td>\n",
       "    </tr>\n",
       "    <tr>\n",
       "      <th>2</th>\n",
       "      <td>01/03/2001</td>\n",
       "      <td>W</td>\n",
       "      <td>824923</td>\n",
       "      <td>536432</td>\n",
       "      <td>1361355</td>\n",
       "    </tr>\n",
       "    <tr>\n",
       "      <th>3</th>\n",
       "      <td>01/04/2001</td>\n",
       "      <td>W</td>\n",
       "      <td>870021</td>\n",
       "      <td>550011</td>\n",
       "      <td>1420032</td>\n",
       "    </tr>\n",
       "    <tr>\n",
       "      <th>4</th>\n",
       "      <td>01/05/2001</td>\n",
       "      <td>W</td>\n",
       "      <td>890426</td>\n",
       "      <td>557917</td>\n",
       "      <td>1448343</td>\n",
       "    </tr>\n",
       "    <tr>\n",
       "      <th>...</th>\n",
       "      <td>...</td>\n",
       "      <td>...</td>\n",
       "      <td>...</td>\n",
       "      <td>...</td>\n",
       "      <td>...</td>\n",
       "    </tr>\n",
       "    <tr>\n",
       "      <th>7331</th>\n",
       "      <td>11/26/2020</td>\n",
       "      <td>U</td>\n",
       "      <td>119470</td>\n",
       "      <td>56839</td>\n",
       "      <td>176309</td>\n",
       "    </tr>\n",
       "    <tr>\n",
       "      <th>7332</th>\n",
       "      <td>11/27/2020</td>\n",
       "      <td>W</td>\n",
       "      <td>221878</td>\n",
       "      <td>106692</td>\n",
       "      <td>328570</td>\n",
       "    </tr>\n",
       "    <tr>\n",
       "      <th>7333</th>\n",
       "      <td>11/28/2020</td>\n",
       "      <td>A</td>\n",
       "      <td>198860</td>\n",
       "      <td>97141</td>\n",
       "      <td>296001</td>\n",
       "    </tr>\n",
       "    <tr>\n",
       "      <th>7334</th>\n",
       "      <td>11/29/2020</td>\n",
       "      <td>U</td>\n",
       "      <td>145682</td>\n",
       "      <td>76276</td>\n",
       "      <td>221958</td>\n",
       "    </tr>\n",
       "    <tr>\n",
       "      <th>7335</th>\n",
       "      <td>11/30/2020</td>\n",
       "      <td>W</td>\n",
       "      <td>255801</td>\n",
       "      <td>130426</td>\n",
       "      <td>386227</td>\n",
       "    </tr>\n",
       "  </tbody>\n",
       "</table>\n",
       "<p>7336 rows × 5 columns</p>\n",
       "</div>"
      ],
      "text/plain": [
       "     service_date day_type     bus  rail_boardings  total_rides\n",
       "0      01/01/2001        U  297192          126455       423647\n",
       "1      01/02/2001        W  780827          501952      1282779\n",
       "2      01/03/2001        W  824923          536432      1361355\n",
       "3      01/04/2001        W  870021          550011      1420032\n",
       "4      01/05/2001        W  890426          557917      1448343\n",
       "...           ...      ...     ...             ...          ...\n",
       "7331   11/26/2020        U  119470           56839       176309\n",
       "7332   11/27/2020        W  221878          106692       328570\n",
       "7333   11/28/2020        A  198860           97141       296001\n",
       "7334   11/29/2020        U  145682           76276       221958\n",
       "7335   11/30/2020        W  255801          130426       386227\n",
       "\n",
       "[7336 rows x 5 columns]"
      ]
     },
     "execution_count": 2,
     "metadata": {},
     "output_type": "execute_result"
    }
   ],
   "source": [
    "import matplotlib.pyplot as plt\n",
    "import pandas as pd\n",
    "import numpy as np\n",
    "from scipy.stats import linregress\n",
    "\n",
    "#import csv\n",
    "cta_df = pd.read_csv(\"CTA_Ridership.csv\")\n",
    "cta_df"
   ]
  },
  {
   "cell_type": "code",
   "execution_count": 4,
   "metadata": {},
   "outputs": [],
   "source": [
    "#grab 2019 dates\n",
    "first_df = cta_df[6636:6879]\n",
    "second_df = cta_df[6953:7074]\n",
    "\n",
    "#merge dataframes\n",
    "full_2019 = pd.merge(first_df, second_df, how='outer')\n",
    "\n",
    "#change service_date column to string for easier manipulation\n",
    "full_2019 = full_2019.astype({'service_date':'string'})\n",
    "#split service_date column to isolate months\n",
    "full_2019.service_date = full_2019.service_date.str.split('/', expand=True)\n",
    "#recast service_date as int\n",
    "full_2019 = full_2019.astype({'service_date':'int64'})\n",
    "#bin and group by month\n",
    "month_numbers = [0, 1, 2, 3, 4, 5, 6, 7, 8, 9, 10, 11, 12]\n",
    "month_names = [\"January\", \"February\", \"March\", \"April\", \"May\", \"June\", \"July\", \"August\", \"September\", \"October\", \"November\", \"December\"]\n",
    "full_2019['Month'] = pd.cut(full_2019['service_date'], month_numbers, labels=month_names)\n",
    "month_grouped_2019 = full_2019.groupby(['Month']).sum()\n",
    "#drop service_date column\n",
    "month_grouped_2019 = month_grouped_2019.drop(columns=['service_date'])\n",
    "month_grouped_2019"
   ]
  },
  {
   "cell_type": "code",
   "execution_count": 4,
   "metadata": {},
   "outputs": [
    {
     "data": {
      "image/png": "[encoded data removed]",
      "text/plain": [
       "<Figure size 432x288 with 1 Axes>"
      ]
     },
     "metadata": {
      "needs_background": "light"
     },
     "output_type": "display_data"
    }
   ],
   "source": [
    "#make a bar graph of 2019 CTA travel\n",
    "month_grouped_2019.plot.bar(stacked=True)\n",
    "plt.ylim(10000000, 90000000)\n",
    "plt.title(\"2019 CTA Rides by Month\")\n",
    "plt.xlabel(\"Month\")\n",
    "plt.ylabel(\"Number of Trips Taken (Millions)\")\n",
    "fig = plt.gcf()\n",
    "fig.savefig(\"2019plot.png\");"
   ]
  },
  {
   "cell_type": "code",
   "execution_count": 5,
   "metadata": {},
   "outputs": [],
   "source": [
    "#grab 2020 dates\n",
    "third_df = cta_df[6879:6952]\n",
    "fourth_df = cta_df[7075:]\n",
    "\n",
    "#merge dataframes\n",
    "full_2020 = pd.merge(third_df, fourth_df, how='outer')\n",
    "\n",
    "#change service_date column to string for easier manipulation\n",
    "full_2020 = full_2020.astype({'service_date':'string'})\n",
    "#split service_date column to isolate months\n",
    "full_2020.service_date = full_2020.service_date.str.split('/', expand=True)\n",
    "#recast service_date as int\n",
    "full_2020 = full_2020.astype({'service_date':'int64'})\n",
    "full_2020['Month'] = pd.cut(full_2020['service_date'], month_numbers, labels=month_names)\n",
    "month_grouped_2020 = full_2020.groupby(['Month']).sum()\n",
    "month_grouped_2020 = month_grouped_2020.drop(columns=['service_date'])\n",
    "month_grouped_2020"
   ]
  },
  {
   "cell_type": "code",
   "execution_count": 8,
   "metadata": {},
   "outputs": [
    {
     "data": {
      "image/png": "[encoded data removed]",
      "text/plain": [
       "<Figure size 432x288 with 1 Axes>"
      ]
     },
     "metadata": {
      "needs_background": "light"
     },
     "output_type": "display_data"
    }
   ],
   "source": [
    "#make a bar graph of 2019 CTA travel\n",
    "month_grouped_2020.plot.bar(stacked=True)\n",
    "plt.ylim(10000000, 90000000)\n",
    "plt.title(\"2020 CTA Rides by Month\")\n",
    "plt.xlabel(\"Month\")\n",
    "plt.ylabel(\"Number of Trips Taken (Millions)\")\n",
    "fig2 = plt.gcf()\n",
    "fig2.savefig(\"2020plot.png\");"
   ]
  },
  {
   "cell_type": "code",
   "execution_count": null,
   "metadata": {},
   "outputs": [],
   "source": []
  }
 ],
 "metadata": {
  "kernelspec": {
   "display_name": "Python 3",
   "language": "python",
   "name": "python3"
  },
  "language_info": {
   "codemirror_mode": {
    "name": "ipython",
    "version": 3
   },
   "file_extension": ".py",
   "mimetype": "text/x-python",
   "name": "python",
   "nbconvert_exporter": "python",
   "pygments_lexer": "ipython3",
   "version": "3.8.5"
  }
 },
 "nbformat": 4,
 "nbformat_minor": 4
}
